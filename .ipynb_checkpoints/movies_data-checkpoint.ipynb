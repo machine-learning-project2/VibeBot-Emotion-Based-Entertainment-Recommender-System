{
 "cells": [
  {
   "cell_type": "code",
   "execution_count": 4,
   "id": "bc338ea9-85d7-4a14-b6c5-f607b5e717ce",
   "metadata": {},
   "outputs": [],
   "source": [
    "import requests\n",
    "import pandas as pd\n",
    "import time\n",
    "\n",
    "API_KEY = '8031c5c2c418cd91876543938f98687a'\n",
    "BASE_URL = 'https://api.themoviedb.org/3/discover/movie'\n"
   ]
  },
  {
   "cell_type": "code",
   "execution_count": 5,
   "id": "db9fb4b4-4733-4724-af9f-fbd92361a465",
   "metadata": {},
   "outputs": [],
   "source": [
    "# Genre mapping from TMDb\n",
    "genre_map = {\n",
    "    \"Action\": 28, \"Adventure\": 12, \"Animation\": 16, \"Comedy\": 35,\n",
    "    \"Crime\": 80, \"Documentary\": 99, \"Drama\": 18, \"Family\": 10751,\n",
    "    \"Fantasy\": 14, \"History\": 36, \"Horror\": 27, \"Music\": 10402,\n",
    "    \"Mystery\": 9648, \"Romance\": 10749, \"Science Fiction\": 878,\n",
    "    \"TV Movie\": 10770, \"Thriller\": 53, \"War\": 10752, \"Western\": 37\n",
    "}\n",
    "\n",
    "# Emotion to genres mapping\n",
    "emotion_genre_map = {\n",
    "    \"hopeful\": [\"Drama\", \"Romance\", \"Family\"],\n",
    "    \"depressed\": [\"Drama\", \"History\"],\n",
    "    \"lonely\": [\"Drama\", \"Romance\"],\n",
    "    \"sad\": [\"Drama\", \"War\", \"Romance\"],\n",
    "    \"angry\": [\"Action\", \"Crime\", \"Thriller\"],\n",
    "    \"fear\": [\"Horror\", \"Thriller\", \"Mystery\"],\n",
    "    \"regret\": [\"Drama\", \"Romance\", \"History\"],\n",
    "    \"excited\": [\"Action\", \"Adventure\", \"Science Fiction\", \"Comedy\"],\n",
    "    \"confused\": [\"Mystery\", \"Science Fiction\"],\n",
    "    \"grateful\": [\"Family\", \"Animation\", \"Music\"],\n",
    "    \"rejected\": [\"Romance\", \"Drama\"],\n",
    "    \"happy\": [\"Comedy\", \"Animation\", \"Romance\"]\n",
    "}\n"
   ]
  },
  {
   "cell_type": "code",
   "execution_count": 6,
   "id": "f9424554-db2b-4256-9b1d-c75e522b24b9",
   "metadata": {},
   "outputs": [],
   "source": [
    "def get_movies_by_genres(genres, emotion, max_results=50):\n",
    "    genre_ids = [str(genre_map[g]) for g in genres if g in genre_map]\n",
    "    query_string = \",\".join(genre_ids)\n",
    "    \n",
    "    collected = []\n",
    "    page = 1\n",
    "\n",
    "    while len(collected) < max_results and page <= 10:\n",
    "        params = {\n",
    "            'api_key': API_KEY,\n",
    "            'with_genres': query_string,\n",
    "            'page': page,\n",
    "            'language': 'en-US',\n",
    "            'sort_by': 'popularity.desc'\n",
    "        }\n",
    "        response = requests.get(BASE_URL, params=params).json()\n",
    "        movies = response.get('results', [])\n",
    "        for m in movies:\n",
    "            movie_entry = {\n",
    "                'title': m.get('title'),\n",
    "                'overview': m.get('overview'),\n",
    "                'genres': genres,\n",
    "                'emotion': emotion,\n",
    "                'link': f\"https://www.themoviedb.org/movie/{m.get('id')}\"\n",
    "            }\n",
    "            collected.append(movie_entry)\n",
    "            if len(collected) >= max_results:\n",
    "                break\n",
    "        page += 1\n",
    "        time.sleep(0.5)  # To avoid hitting rate limits\n",
    "\n",
    "    return collected"
   ]
  },
  {
   "cell_type": "code",
   "execution_count": 7,
   "id": "0c87e419-df8b-4e43-b6bd-71de4e237633",
   "metadata": {},
   "outputs": [
    {
     "name": "stdout",
     "output_type": "stream",
     "text": [
      "Fetching movies for emotion: hopeful\n",
      "Fetching movies for emotion: depressed\n",
      "Fetching movies for emotion: lonely\n",
      "Fetching movies for emotion: sad\n",
      "Fetching movies for emotion: angry\n",
      "Fetching movies for emotion: fear\n",
      "Fetching movies for emotion: regret\n",
      "Fetching movies for emotion: excited\n",
      "Fetching movies for emotion: confused\n",
      "Fetching movies for emotion: grateful\n",
      "Fetching movies for emotion: rejected\n",
      "Fetching movies for emotion: happy\n",
      "Saved 600 movies with links.\n"
     ]
    }
   ],
   "source": [
    "# Get movies for all emotions\n",
    "all_movies = []\n",
    "for emotion, genres in emotion_genre_map.items():\n",
    "    print(f\"Fetching movies for emotion: {emotion}\")\n",
    "    movies = get_movies_by_genres(genres, emotion)\n",
    "    all_movies.extend(movies)\n",
    "\n",
    "# Convert to DataFrame and save\n",
    "df_all = pd.DataFrame(all_movies)\n",
    "df_all.to_csv(\"emotion_based_movies_with_links.csv\", index=False)\n",
    "print(\"Saved\", len(df_all), \"movies with links.\")\n"
   ]
  },
  {
   "cell_type": "code",
   "execution_count": null,
   "id": "0a3a2cb4-b508-4296-a540-032b09e82a32",
   "metadata": {},
   "outputs": [],
   "source": []
  }
 ],
 "metadata": {
  "kernelspec": {
   "display_name": "Python 3 (ipykernel)",
   "language": "python",
   "name": "python3"
  },
  "language_info": {
   "codemirror_mode": {
    "name": "ipython",
    "version": 3
   },
   "file_extension": ".py",
   "mimetype": "text/x-python",
   "name": "python",
   "nbconvert_exporter": "python",
   "pygments_lexer": "ipython3",
   "version": "3.10.0"
  }
 },
 "nbformat": 4,
 "nbformat_minor": 5
}
