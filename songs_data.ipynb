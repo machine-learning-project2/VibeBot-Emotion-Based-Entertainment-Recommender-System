{
 "cells": [
  {
   "cell_type": "code",
   "execution_count": 1,
   "id": "68e3907f-8c3f-44d8-ba0d-51fe5179b7e4",
   "metadata": {},
   "outputs": [],
   "source": [
    "import pandas as pd"
   ]
  },
  {
   "cell_type": "code",
   "execution_count": 2,
   "id": "bdcd5460-5d41-4878-8bc0-1bf6d52c7a44",
   "metadata": {},
   "outputs": [],
   "source": [
    "df = pd.read_csv(\"spotify_tracks.csv\")"
   ]
  },
  {
   "cell_type": "code",
   "execution_count": 3,
   "id": "3e01c3b7-5f42-477c-9f6f-135a9f168360",
   "metadata": {},
   "outputs": [
    {
     "data": {
      "text/plain": [
       "Index(['track_id', 'track_name', 'artist_name', 'year', 'popularity',\n",
       "       'artwork_url', 'album_name', 'acousticness', 'danceability',\n",
       "       'duration_ms', 'energy', 'instrumentalness', 'key', 'liveness',\n",
       "       'loudness', 'mode', 'speechiness', 'tempo', 'time_signature', 'valence',\n",
       "       'track_url', 'language'],\n",
       "      dtype='object')"
      ]
     },
     "execution_count": 3,
     "metadata": {},
     "output_type": "execute_result"
    }
   ],
   "source": [
    "df.columns"
   ]
  },
  {
   "cell_type": "code",
   "execution_count": 4,
   "id": "c1d1b79f-80d3-4912-9ae9-8c68a2f7ca6e",
   "metadata": {},
   "outputs": [],
   "source": [
    "df.drop(['track_id' , 'year', 'popularity',\n",
    "       'artwork_url',  'acousticness',\n",
    "       'duration_ms',  'key', 'liveness',\n",
    "       'loudness', 'mode', 'speechiness',  'time_signature',\n",
    "       'language','instrumentalness','energy','album_name'],axis=1,inplace=True)"
   ]
  },
  {
   "cell_type": "code",
   "execution_count": 5,
   "id": "215bef82-225b-4cea-9861-ae998494e212",
   "metadata": {},
   "outputs": [
    {
     "data": {
      "text/html": [
       "<div>\n",
       "<style scoped>\n",
       "    .dataframe tbody tr th:only-of-type {\n",
       "        vertical-align: middle;\n",
       "    }\n",
       "\n",
       "    .dataframe tbody tr th {\n",
       "        vertical-align: top;\n",
       "    }\n",
       "\n",
       "    .dataframe thead th {\n",
       "        text-align: right;\n",
       "    }\n",
       "</style>\n",
       "<table border=\"1\" class=\"dataframe\">\n",
       "  <thead>\n",
       "    <tr style=\"text-align: right;\">\n",
       "      <th></th>\n",
       "      <th>track_name</th>\n",
       "      <th>artist_name</th>\n",
       "      <th>danceability</th>\n",
       "      <th>tempo</th>\n",
       "      <th>valence</th>\n",
       "      <th>track_url</th>\n",
       "    </tr>\n",
       "  </thead>\n",
       "  <tbody>\n",
       "    <tr>\n",
       "      <th>0</th>\n",
       "      <td>Leo Das Entry (From \"Leo\")</td>\n",
       "      <td>Anirudh Ravichander</td>\n",
       "      <td>0.753</td>\n",
       "      <td>110.997</td>\n",
       "      <td>0.459</td>\n",
       "      <td>https://open.spotify.com/track/2r0ROhr7pRN4MXD...</td>\n",
       "    </tr>\n",
       "    <tr>\n",
       "      <th>1</th>\n",
       "      <td>AAO KILLELLE</td>\n",
       "      <td>Anirudh Ravichander, Pravin Mani, Vaishali Sri...</td>\n",
       "      <td>0.780</td>\n",
       "      <td>164.995</td>\n",
       "      <td>0.821</td>\n",
       "      <td>https://open.spotify.com/track/4I38e6Dg52a2o2a...</td>\n",
       "    </tr>\n",
       "    <tr>\n",
       "      <th>2</th>\n",
       "      <td>Mayakiriye Sirikiriye - Orchestral EDM</td>\n",
       "      <td>Anirudh Ravichander, Anivee, Alvin Bruno</td>\n",
       "      <td>0.457</td>\n",
       "      <td>169.996</td>\n",
       "      <td>0.598</td>\n",
       "      <td>https://open.spotify.com/track/59NoiRhnom3lTeR...</td>\n",
       "    </tr>\n",
       "    <tr>\n",
       "      <th>3</th>\n",
       "      <td>Scene Ah Scene Ah - Experimental EDM Mix</td>\n",
       "      <td>Anirudh Ravichander, Bharath Sankar, Kabilan, ...</td>\n",
       "      <td>0.718</td>\n",
       "      <td>169.996</td>\n",
       "      <td>0.362</td>\n",
       "      <td>https://open.spotify.com/track/5uUqRQd385pvLxC...</td>\n",
       "    </tr>\n",
       "    <tr>\n",
       "      <th>4</th>\n",
       "      <td>Gundellonaa X I Am A Disco Dancer - Mashup</td>\n",
       "      <td>Anirudh Ravichander, Benny Dayal, Leon James, ...</td>\n",
       "      <td>0.689</td>\n",
       "      <td>128.961</td>\n",
       "      <td>0.593</td>\n",
       "      <td>https://open.spotify.com/track/1KaBRg2xgNeCljm...</td>\n",
       "    </tr>\n",
       "    <tr>\n",
       "      <th>...</th>\n",
       "      <td>...</td>\n",
       "      <td>...</td>\n",
       "      <td>...</td>\n",
       "      <td>...</td>\n",
       "      <td>...</td>\n",
       "      <td>...</td>\n",
       "    </tr>\n",
       "    <tr>\n",
       "      <th>62312</th>\n",
       "      <td>Sani - G.O.A.T Remix</td>\n",
       "      <td>Arvind Raj, Sheezay, Music Kitchen, FSPROD Vin...</td>\n",
       "      <td>0.877</td>\n",
       "      <td>100.024</td>\n",
       "      <td>0.504</td>\n",
       "      <td>https://open.spotify.com/track/3eHDwMQYPEziy2D...</td>\n",
       "    </tr>\n",
       "    <tr>\n",
       "      <th>62313</th>\n",
       "      <td>Life of Bachelor</td>\n",
       "      <td>A H Kaashif, Navakkarai Naveen Prabanjam, Asal...</td>\n",
       "      <td>0.833</td>\n",
       "      <td>110.041</td>\n",
       "      <td>0.524</td>\n",
       "      <td>https://open.spotify.com/track/5hHtCqkNv5eo99O...</td>\n",
       "    </tr>\n",
       "    <tr>\n",
       "      <th>62314</th>\n",
       "      <td>Yo Baby</td>\n",
       "      <td>Rakesh Ambigapathy, Asal Kolaar, MC Vickey</td>\n",
       "      <td>0.842</td>\n",
       "      <td>122.038</td>\n",
       "      <td>0.669</td>\n",
       "      <td>https://open.spotify.com/track/08foF9YHgKmIgOy...</td>\n",
       "    </tr>\n",
       "    <tr>\n",
       "      <th>62315</th>\n",
       "      <td>Fast Fast Vadiley</td>\n",
       "      <td>Asal Kolaar, Priyadarshan Balasubramanian</td>\n",
       "      <td>0.682</td>\n",
       "      <td>74.993</td>\n",
       "      <td>0.439</td>\n",
       "      <td>https://open.spotify.com/track/2wLFbVlQGKJSd9l...</td>\n",
       "    </tr>\n",
       "    <tr>\n",
       "      <th>62316</th>\n",
       "      <td>Moonu Moonu Moonu (From \"3:33\")</td>\n",
       "      <td>Harshavardhan Rameshwar, G. V. Prakash, Dharma...</td>\n",
       "      <td>0.817</td>\n",
       "      <td>89.975</td>\n",
       "      <td>0.837</td>\n",
       "      <td>https://open.spotify.com/track/5OYxwYeFfumMTAo...</td>\n",
       "    </tr>\n",
       "  </tbody>\n",
       "</table>\n",
       "<p>62317 rows × 6 columns</p>\n",
       "</div>"
      ],
      "text/plain": [
       "                                       track_name  \\\n",
       "0                      Leo Das Entry (From \"Leo\")   \n",
       "1                                    AAO KILLELLE   \n",
       "2          Mayakiriye Sirikiriye - Orchestral EDM   \n",
       "3        Scene Ah Scene Ah - Experimental EDM Mix   \n",
       "4      Gundellonaa X I Am A Disco Dancer - Mashup   \n",
       "...                                           ...   \n",
       "62312                        Sani - G.O.A.T Remix   \n",
       "62313                            Life of Bachelor   \n",
       "62314                                     Yo Baby   \n",
       "62315                           Fast Fast Vadiley   \n",
       "62316             Moonu Moonu Moonu (From \"3:33\")   \n",
       "\n",
       "                                             artist_name  danceability  \\\n",
       "0                                    Anirudh Ravichander         0.753   \n",
       "1      Anirudh Ravichander, Pravin Mani, Vaishali Sri...         0.780   \n",
       "2               Anirudh Ravichander, Anivee, Alvin Bruno         0.457   \n",
       "3      Anirudh Ravichander, Bharath Sankar, Kabilan, ...         0.718   \n",
       "4      Anirudh Ravichander, Benny Dayal, Leon James, ...         0.689   \n",
       "...                                                  ...           ...   \n",
       "62312  Arvind Raj, Sheezay, Music Kitchen, FSPROD Vin...         0.877   \n",
       "62313  A H Kaashif, Navakkarai Naveen Prabanjam, Asal...         0.833   \n",
       "62314         Rakesh Ambigapathy, Asal Kolaar, MC Vickey         0.842   \n",
       "62315          Asal Kolaar, Priyadarshan Balasubramanian         0.682   \n",
       "62316  Harshavardhan Rameshwar, G. V. Prakash, Dharma...         0.817   \n",
       "\n",
       "         tempo  valence                                          track_url  \n",
       "0      110.997    0.459  https://open.spotify.com/track/2r0ROhr7pRN4MXD...  \n",
       "1      164.995    0.821  https://open.spotify.com/track/4I38e6Dg52a2o2a...  \n",
       "2      169.996    0.598  https://open.spotify.com/track/59NoiRhnom3lTeR...  \n",
       "3      169.996    0.362  https://open.spotify.com/track/5uUqRQd385pvLxC...  \n",
       "4      128.961    0.593  https://open.spotify.com/track/1KaBRg2xgNeCljm...  \n",
       "...        ...      ...                                                ...  \n",
       "62312  100.024    0.504  https://open.spotify.com/track/3eHDwMQYPEziy2D...  \n",
       "62313  110.041    0.524  https://open.spotify.com/track/5hHtCqkNv5eo99O...  \n",
       "62314  122.038    0.669  https://open.spotify.com/track/08foF9YHgKmIgOy...  \n",
       "62315   74.993    0.439  https://open.spotify.com/track/2wLFbVlQGKJSd9l...  \n",
       "62316   89.975    0.837  https://open.spotify.com/track/5OYxwYeFfumMTAo...  \n",
       "\n",
       "[62317 rows x 6 columns]"
      ]
     },
     "execution_count": 5,
     "metadata": {},
     "output_type": "execute_result"
    }
   ],
   "source": [
    "df"
   ]
  },
  {
   "cell_type": "code",
   "execution_count": 6,
   "id": "86c67d40-3add-429e-a43a-1df2dc93ec4f",
   "metadata": {},
   "outputs": [
    {
     "name": "stdout",
     "output_type": "stream",
     "text": [
      "                                   track_name  \\\n",
      "0                  Leo Das Entry (From \"Leo\")   \n",
      "1                                AAO KILLELLE   \n",
      "2      Mayakiriye Sirikiriye - Orchestral EDM   \n",
      "3    Scene Ah Scene Ah - Experimental EDM Mix   \n",
      "4  Gundellonaa X I Am A Disco Dancer - Mashup   \n",
      "\n",
      "                                         artist_name  valence  danceability  \\\n",
      "0                                Anirudh Ravichander    0.459         0.753   \n",
      "1  Anirudh Ravichander, Pravin Mani, Vaishali Sri...    0.821         0.780   \n",
      "2           Anirudh Ravichander, Anivee, Alvin Bruno    0.598         0.457   \n",
      "3  Anirudh Ravichander, Bharath Sankar, Kabilan, ...    0.362         0.718   \n",
      "4  Anirudh Ravichander, Benny Dayal, Leon James, ...    0.593         0.689   \n",
      "\n",
      "   emotion                                          track_url  \n",
      "0  neutral  https://open.spotify.com/track/2r0ROhr7pRN4MXD...  \n",
      "1  excited  https://open.spotify.com/track/4I38e6Dg52a2o2a...  \n",
      "2  hopeful  https://open.spotify.com/track/59NoiRhnom3lTeR...  \n",
      "3  neutral  https://open.spotify.com/track/5uUqRQd385pvLxC...  \n",
      "4  neutral  https://open.spotify.com/track/1KaBRg2xgNeCljm...  \n"
     ]
    }
   ],
   "source": [
    "# Define the mapping function\n",
    "def map_to_custom_emotion(valence, energy, danceability):\n",
    "    if valence > 0.75 and energy > 0.75:\n",
    "        return 'excited'\n",
    "    elif valence > 0.6 and energy < 0.4:\n",
    "        return 'grateful'\n",
    "    elif valence > 0.65 and energy > 0.5:\n",
    "        return 'happy'\n",
    "    elif valence > 0.5 and 0.4 < energy < 0.6:\n",
    "        return 'hopeful'\n",
    "    elif valence < 0.35 and energy < 0.35:\n",
    "        return 'depressed'\n",
    "    elif valence < 0.3 and energy > 0.6:\n",
    "        return 'angry'\n",
    "    elif valence < 0.35 and energy < 0.45:\n",
    "        return 'lonely'\n",
    "    elif valence < 0.4 and 0.4 <= energy <= 0.6:\n",
    "        return 'sad'\n",
    "    elif 0.35 < valence < 0.55 and energy < 0.4:\n",
    "        return 'regret'\n",
    "    elif 0.4 <= valence <= 0.6 and 0.4 <= energy <= 0.6:\n",
    "        return 'confused'\n",
    "    elif valence < 0.4 and 0.5 <= energy <= 0.7:\n",
    "        return 'fear'\n",
    "    elif valence < 0.4 and 0.4 <= energy <= 0.6:\n",
    "        return 'rejected'\n",
    "    else:\n",
    "        return 'neutral'\n",
    "\n",
    "# Apply the function row-wise\n",
    "df['emotion'] = df.apply(lambda row: map_to_custom_emotion(row['valence'], row['danceability'], row['danceability']), axis=1)\n",
    "\n",
    "# Show the updated DataFrame\n",
    "print(df[['track_name', 'artist_name', 'valence', 'danceability', 'emotion', 'track_url']].head())\n"
   ]
  },
  {
   "cell_type": "code",
   "execution_count": 7,
   "id": "fdd9db7a-555a-4823-aedd-e8c0a6947e84",
   "metadata": {},
   "outputs": [
    {
     "data": {
      "text/plain": [
       "Index(['track_name', 'artist_name', 'danceability', 'tempo', 'valence',\n",
       "       'track_url', 'emotion'],\n",
       "      dtype='object')"
      ]
     },
     "execution_count": 7,
     "metadata": {},
     "output_type": "execute_result"
    }
   ],
   "source": [
    "df.columns"
   ]
  },
  {
   "cell_type": "code",
   "execution_count": 8,
   "id": "767f109d-9516-42e1-a799-f5224658e9a7",
   "metadata": {},
   "outputs": [
    {
     "name": "stdout",
     "output_type": "stream",
     "text": [
      "CSV file saved as emotion_labeled_tracks.csv\n"
     ]
    }
   ],
   "source": [
    "# Save the DataFrame to a CSV file\n",
    "df.to_csv(\"emotion_labeled_tracks.csv\", index=False)\n",
    "\n",
    "print(\"CSV file saved as emotion_labeled_tracks.csv\")\n"
   ]
  },
  {
   "cell_type": "code",
   "execution_count": null,
   "id": "2461ae1b-5639-49b2-982c-22ab0c2fe709",
   "metadata": {},
   "outputs": [],
   "source": []
  }
 ],
 "metadata": {
  "kernelspec": {
   "display_name": "Python 3 (ipykernel)",
   "language": "python",
   "name": "python3"
  },
  "language_info": {
   "codemirror_mode": {
    "name": "ipython",
    "version": 3
   },
   "file_extension": ".py",
   "mimetype": "text/x-python",
   "name": "python",
   "nbconvert_exporter": "python",
   "pygments_lexer": "ipython3",
   "version": "3.10.0"
  }
 },
 "nbformat": 4,
 "nbformat_minor": 5
}
